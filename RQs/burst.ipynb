{
 "cells": [
  {
   "cell_type": "code",
   "execution_count": 2,
   "metadata": {
    "collapsed": true
   },
   "outputs": [],
   "source": [
    "import pandas as pd\n",
    "import numpy as np"
   ]
  },
  {
   "cell_type": "code",
   "execution_count": 3,
   "outputs": [
    {
     "data": {
      "text/plain": "73891"
     },
     "execution_count": 3,
     "metadata": {},
     "output_type": "execute_result"
    }
   ],
   "source": [
    "df = pd.read_csv(\"votes.csv\")\n",
    "len(df)"
   ],
   "metadata": {
    "collapsed": false,
    "pycharm": {
     "name": "#%%\n"
    }
   }
  },
  {
   "cell_type": "code",
   "execution_count": 4,
   "outputs": [
    {
     "name": "stdout",
     "output_type": "stream",
     "text": [
      "<class 'pandas.core.frame.DataFrame'>\n",
      "RangeIndex: 73891 entries, 0 to 73890\n",
      "Data columns (total 6 columns):\n",
      " #   Column        Non-Null Count  Dtype  \n",
      "---  ------        --------------  -----  \n",
      " 0   Id            73891 non-null  int64  \n",
      " 1   PostId        73891 non-null  int64  \n",
      " 2   VoteTypeId    73891 non-null  int64  \n",
      " 3   UserId        22448 non-null  float64\n",
      " 4   CreationDate  73891 non-null  object \n",
      " 5   BountyAmount  252 non-null    float64\n",
      "dtypes: float64(2), int64(3), object(1)\n",
      "memory usage: 3.4+ MB\n"
     ]
    }
   ],
   "source": [
    "df.info()"
   ],
   "metadata": {
    "collapsed": false,
    "pycharm": {
     "name": "#%%\n"
    }
   }
  },
  {
   "cell_type": "code",
   "execution_count": 10,
   "outputs": [],
   "source": [
    "Posts = df.drop_duplicates('PostId')['PostId'].values\n",
    "Posts = np.array(Posts)"
   ],
   "metadata": {
    "collapsed": false,
    "pycharm": {
     "name": "#%%\n"
    }
   }
  },
  {
   "cell_type": "code",
   "execution_count": 63,
   "outputs": [
    {
     "name": "stderr",
     "output_type": "stream",
     "text": [
      "D:\\anaconda3\\envs\\Torch\\lib\\site-packages\\ipykernel_launcher.py:6: SettingWithCopyWarning: \n",
      "A value is trying to be set on a copy of a slice from a DataFrame.\n",
      "Try using .loc[row_indexer,col_indexer] = value instead\n",
      "\n",
      "See the caveats in the documentation: https://pandas.pydata.org/pandas-docs/stable/user_guide/indexing.html#returning-a-view-versus-a-copy\n",
      "  \n"
     ]
    },
    {
     "name": "stdout",
     "output_type": "stream",
     "text": [
      "14\n"
     ]
    }
   ],
   "source": [
    "burst = set()\n",
    "for i in range(0, len(Posts)):\n",
    "    postid = Posts[i]\n",
    "    vote = df[(df['PostId']==postid) & (df['VoteTypeId']==2)]\n",
    "    votemonth = vote[['Id', 'CreationDate']]\n",
    "    votemonth['CreationDate'] = pd.to_datetime(votemonth['CreationDate'])\n",
    "    votemonth = votemonth.set_index('CreationDate')\n",
    "    votemonth = votemonth.resample('M').count().to_period('M')\n",
    "    votemonth.rename(columns={'Id':'vote_count'},inplace = True)\n",
    "\n",
    "    paras = [4, 8]\n",
    "    for para in paras:\n",
    "        votemonth['EMA'+str(para)] = pd.DataFrame.ewm(\n",
    "            votemonth['vote_count'], span=para, ignore_na=True, adjust=False).mean()\n",
    "    votemonth['MACD'] = votemonth['EMA4'] - votemonth['EMA8']\n",
    "    votemonth['EMA5'] = pd.DataFrame.ewm(votemonth['MACD'], span=5, ignore_na=True, adjust=False).mean()\n",
    "    votemonth['Signal'] = votemonth['EMA5'] * votemonth['MACD']\n",
    "    votemonth['Histogram'] = votemonth['MACD']-votemonth['EMA5']\n",
    "\n",
    "    cnt = 0\n",
    "    for index, row in votemonth.iterrows():\n",
    "        histogram = row['Histogram']\n",
    "        macd = row['MACD']\n",
    "        ema5 = row['EMA5']\n",
    "        signal = row['Signal']\n",
    "        if (macd>0) & (ema5>0):\n",
    "            cnt += 1\n",
    "        else:\n",
    "            cnt = 0\n",
    "        if cnt > 12:\n",
    "            burst.add(postid)\n",
    "\n",
    "print(len(burst))"
   ],
   "metadata": {
    "collapsed": false,
    "pycharm": {
     "name": "#%%\n"
    }
   }
  },
  {
   "cell_type": "code",
   "execution_count": 65,
   "outputs": [
    {
     "name": "stderr",
     "output_type": "stream",
     "text": [
      "D:\\anaconda3\\envs\\Torch\\lib\\site-packages\\ipykernel_launcher.py:4: SettingWithCopyWarning: \n",
      "A value is trying to be set on a copy of a slice from a DataFrame.\n",
      "Try using .loc[row_indexer,col_indexer] = value instead\n",
      "\n",
      "See the caveats in the documentation: https://pandas.pydata.org/pandas-docs/stable/user_guide/indexing.html#returning-a-view-versus-a-copy\n",
      "  after removing the cwd from sys.path.\n"
     ]
    },
    {
     "data": {
      "text/plain": "              vote_count\nCreationDate            \n2011-01                2\n2011-02                0\n2011-03                0\n2011-04                0\n2011-05                0",
      "text/html": "<div>\n<style scoped>\n    .dataframe tbody tr th:only-of-type {\n        vertical-align: middle;\n    }\n\n    .dataframe tbody tr th {\n        vertical-align: top;\n    }\n\n    .dataframe thead th {\n        text-align: right;\n    }\n</style>\n<table border=\"1\" class=\"dataframe\">\n  <thead>\n    <tr style=\"text-align: right;\">\n      <th></th>\n      <th>vote_count</th>\n    </tr>\n    <tr>\n      <th>CreationDate</th>\n      <th></th>\n    </tr>\n  </thead>\n  <tbody>\n    <tr>\n      <th>2011-01</th>\n      <td>2</td>\n    </tr>\n    <tr>\n      <th>2011-02</th>\n      <td>0</td>\n    </tr>\n    <tr>\n      <th>2011-03</th>\n      <td>0</td>\n    </tr>\n    <tr>\n      <th>2011-04</th>\n      <td>0</td>\n    </tr>\n    <tr>\n      <th>2011-05</th>\n      <td>0</td>\n    </tr>\n  </tbody>\n</table>\n</div>"
     },
     "execution_count": 65,
     "metadata": {},
     "output_type": "execute_result"
    }
   ],
   "source": [
    "postid = 4752626\n",
    "vote = df[(df['PostId']==postid) & (df['VoteTypeId']==2)]\n",
    "votemonth = vote[['Id', 'CreationDate']]\n",
    "votemonth['CreationDate'] = pd.to_datetime(votemonth['CreationDate'])\n",
    "votemonth = votemonth.set_index('CreationDate')\n",
    "votemonth = votemonth.resample('M').count().to_period('M')\n",
    "votemonth.rename(columns={'Id':'vote_count'},inplace = True)\n",
    "votemonth.head()"
   ],
   "metadata": {
    "collapsed": false,
    "pycharm": {
     "name": "#%%\n"
    }
   }
  },
  {
   "cell_type": "code",
   "execution_count": 66,
   "outputs": [],
   "source": [
    "paras = [4, 8]\n",
    "for para in paras:\n",
    "    votemonth['EMA'+str(para)] = pd.DataFrame.ewm(\n",
    "        votemonth['vote_count'], span=para, ignore_na=True, adjust=False).mean()\n",
    "votemonth['MACD'] = votemonth['EMA4'] - votemonth['EMA8']\n",
    "votemonth['EMA5'] = pd.DataFrame.ewm(votemonth['MACD'], span=5, ignore_na=True, adjust=False).mean()\n",
    "votemonth['Signal'] = votemonth['EMA5'] * votemonth['MACD']\n",
    "votemonth['Histogram'] = votemonth['MACD']-votemonth['EMA5']"
   ],
   "metadata": {
    "collapsed": false,
    "pycharm": {
     "name": "#%%\n"
    }
   }
  }
 ],
 "metadata": {
  "kernelspec": {
   "display_name": "Python 3",
   "language": "python",
   "name": "python3"
  },
  "language_info": {
   "codemirror_mode": {
    "name": "ipython",
    "version": 2
   },
   "file_extension": ".py",
   "mimetype": "text/x-python",
   "name": "python",
   "nbconvert_exporter": "python",
   "pygments_lexer": "ipython2",
   "version": "2.7.6"
  }
 },
 "nbformat": 4,
 "nbformat_minor": 0
}